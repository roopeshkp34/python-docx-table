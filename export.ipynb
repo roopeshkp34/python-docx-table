{
 "cells": [
  {
   "cell_type": "code",
   "execution_count": 1,
   "metadata": {},
   "outputs": [],
   "source": [
    "from docx import Document"
   ]
  },
  {
   "cell_type": "code",
   "execution_count": 46,
   "metadata": {},
   "outputs": [],
   "source": [
    "import json\n",
    "\n",
    "\n",
    "with open(\"document.json\", \"r\") as f:\n",
    "    data = json.loads(f.read())\n",
    "\n",
    "# print((data))"
   ]
  },
  {
   "cell_type": "code",
   "execution_count": 47,
   "metadata": {},
   "outputs": [],
   "source": [
    "document = Document()\n",
    "\n",
    "def extract_from_table(item):\n",
    "    table = document.add_table(rows=1, cols=item[\"column\"])\n",
    "    for id, rows in enumerate(item[\"children\"]):\n",
    "    #    row = table.add_row() if id > 0 else table.rows[-1]\n",
    "        row = table.add_row().cells\n",
    "        for index, cells in enumerate(rows[\"children\"]):\n",
    "            cell = row[index]\n",
    "            # if cells.get(\"colspan\"):\n",
    "            #     cell.grid_span = int(cells.get(\"colspan\"))\n",
    "            para = cell.add_paragraph()\n",
    "            for items in cells[\"children\"]:\n",
    "                for txts in items[\"children\"]:\n",
    "                    para.add_run(txts[\"text\"])\n",
    "\n",
    "for item in data:\n",
    "    if item.get(\"type\") == \"table\":\n",
    "        extract_from_table(item)\n",
    "\n",
    "document.save(\"a.docx\")"
   ]
  },
  {
   "cell_type": "code",
   "execution_count": null,
   "metadata": {},
   "outputs": [],
   "source": []
  }
 ],
 "metadata": {
  "kernelspec": {
   "display_name": "env",
   "language": "python",
   "name": "python3"
  },
  "language_info": {
   "codemirror_mode": {
    "name": "ipython",
    "version": 3
   },
   "file_extension": ".py",
   "mimetype": "text/x-python",
   "name": "python",
   "nbconvert_exporter": "python",
   "pygments_lexer": "ipython3",
   "version": "3.9.13"
  },
  "orig_nbformat": 4
 },
 "nbformat": 4,
 "nbformat_minor": 2
}
