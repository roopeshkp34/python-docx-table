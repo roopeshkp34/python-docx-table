{
 "cells": [
  {
   "cell_type": "code",
   "execution_count": 2,
   "metadata": {},
   "outputs": [],
   "source": [
    "from docx import Document"
   ]
  },
  {
   "cell_type": "code",
   "execution_count": 3,
   "metadata": {},
   "outputs": [],
   "source": [
    "import json\n",
    "\n",
    "\n",
    "with open(\"document.json\", \"r\") as f:\n",
    "    data = json.loads(f.read())\n",
    "\n",
    "# print((data))"
   ]
  },
  {
   "cell_type": "code",
   "execution_count": 11,
   "metadata": {},
   "outputs": [],
   "source": [
    "document = Document()\n",
    "\n",
    "def extract_from_table(item):\n",
    "    table = document.add_table(rows=0, cols=item[\"column\"])\n",
    "    for rows in item[\"children\"]:\n",
    "    #    row = table.add_row() if id > 0 else table.rows[-1]\n",
    "        row = table.add_row()\n",
    "        index = 0\n",
    "        for cells in rows[\"children\"]:\n",
    "            cell = row.cells[index]\n",
    "            if cells.get(\"colspan\"):\n",
    "                cell.merge(row.cells[index + int(cells.get(\"colspan\")) -1])\n",
    "                index += int(cells.get(\"colspan\")) - 1\n",
    "            index +=1\n",
    "            para = cell.add_paragraph()\n",
    "            for items in cells[\"children\"]:\n",
    "                for txts in items[\"children\"]:\n",
    "                    para.add_run(txts[\"text\"])\n",
    "\n",
    "for item in data:\n",
    "    if item.get(\"type\") == \"table\":\n",
    "        extract_from_table(item)\n",
    "\n",
    "document.save(\"a.docx\")"
   ]
  },
  {
   "cell_type": "code",
   "execution_count": null,
   "metadata": {},
   "outputs": [],
   "source": []
  }
 ],
 "metadata": {
  "kernelspec": {
   "display_name": "env",
   "language": "python",
   "name": "python3"
  },
  "language_info": {
   "codemirror_mode": {
    "name": "ipython",
    "version": 3
   },
   "file_extension": ".py",
   "mimetype": "text/x-python",
   "name": "python",
   "nbconvert_exporter": "python",
   "pygments_lexer": "ipython3",
   "version": "3.9.13"
  },
  "orig_nbformat": 4
 },
 "nbformat": 4,
 "nbformat_minor": 2
}
